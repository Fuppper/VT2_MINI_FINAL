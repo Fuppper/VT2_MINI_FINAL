{
 "cells": [
  {
   "cell_type": "markdown",
   "id": "1bdbd473",
   "metadata": {},
   "source": [
    "# Data Import"
   ]
  },
  {
   "cell_type": "markdown",
   "id": "ee84e249",
   "metadata": {},
   "source": [
    "This folder is for runing a code that import the anotated data from Roboflow "
   ]
  },
  {
   "cell_type": "code",
   "execution_count": 1,
   "id": "b78e4893",
   "metadata": {},
   "outputs": [
    {
     "name": "stdout",
     "output_type": "stream",
     "text": [
      "Ultralytics YOLOv8.2.103  Python-3.11.0 torch-2.6.0+cpu CPU (11th Gen Intel Core(TM) i7-1165G7 2.80GHz)\n",
      "Setup complete  (8 CPUs, 15.7 GB RAM, 397.8/475.7 GB disk)\n"
     ]
    }
   ],
   "source": [
    "import ultralytics\n",
    "ultralytics.checks()\n",
    "\n",
    "from roboflow import Roboflow\n",
    "\n",
    "# Used to install the roboflow package and its dependencies and to import the roboflow library (The data we have anotated)\n",
    "#!pip install roboflow\n"
   ]
  },
  {
   "cell_type": "code",
   "execution_count": null,
   "id": "46033519",
   "metadata": {},
   "outputs": [
    {
     "name": "stdout",
     "output_type": "stream",
     "text": [
      "loading Roboflow workspace...\n",
      "loading Roboflow project...\n"
     ]
    },
    {
     "name": "stderr",
     "output_type": "stream",
     "text": [
      "Downloading Dataset Version Zip in VT2_mini_project-2 to yolov8:: 100%|██████████| 1914/1914 [00:00<00:00, 2671.69it/s]"
     ]
    },
    {
     "name": "stdout",
     "output_type": "stream",
     "text": [
      "\n"
     ]
    },
    {
     "name": "stderr",
     "output_type": "stream",
     "text": [
      "\n",
      "Extracting Dataset Version Zip to VT2_mini_project-2 in yolov8:: 100%|██████████| 134/134 [00:00<00:00, 993.88it/s]\n"
     ]
    }
   ],
   "source": [
    "# Importing the Roboflow library and downloading the dataset from Roboflow\n",
    "rf = Roboflow(api_key=\"xxx\") #add your API key here\n",
    "project = rf.workspace(\"vt2\").project(\"vt2_mini_project\")\n",
    "version = project.version(2)\n",
    "dataset = version.download(\"yolov8\")\n",
    "                \n",
    "                "
   ]
  }
 ],
 "metadata": {
  "kernelspec": {
   "display_name": "Python 3",
   "language": "python",
   "name": "python3"
  },
  "language_info": {
   "codemirror_mode": {
    "name": "ipython",
    "version": 3
   },
   "file_extension": ".py",
   "mimetype": "text/x-python",
   "name": "python",
   "nbconvert_exporter": "python",
   "pygments_lexer": "ipython3",
   "version": "3.11.0"
  }
 },
 "nbformat": 4,
 "nbformat_minor": 5
}
