{
 "cells": [
  {
   "cell_type": "markdown",
   "id": "33561528",
   "metadata": {},
   "source": [
    "# Prection of live feed"
   ]
  },
  {
   "cell_type": "markdown",
   "id": "5fcc421e",
   "metadata": {},
   "source": [
    "This code will utiliz the custom trainede yolo8 modle to do predictions on a live feed"
   ]
  },
  {
   "cell_type": "code",
   "execution_count": 1,
   "id": "c1ffa2fd",
   "metadata": {},
   "outputs": [
    {
     "name": "stderr",
     "output_type": "stream",
     "text": [
      "c:\\Users\\lau21\\AppData\\Local\\Programs\\Python\\Python311\\Lib\\site-packages\\torch\\utils\\_pytree.py:185: FutureWarning: optree is installed but the version is too old to support PyTorch Dynamo in C++ pytree. C++ pytree support is disabled. Please consider upgrading optree using `python3 -m pip install --upgrade 'optree>=0.13.0'`.\n",
      "  warnings.warn(\n"
     ]
    }
   ],
   "source": [
    "# Importing the required libraries\n",
    "import cv2\n",
    "from ultralytics import YOLO"
   ]
  },
  {
   "cell_type": "code",
   "execution_count": 2,
   "id": "0e0dd3a8",
   "metadata": {},
   "outputs": [],
   "source": [
    "# Load your locally trained YOLOv8 model\n",
    "model = YOLO(\"runs/detect/train/weights/best.pt\")  # Update path if needed"
   ]
  },
  {
   "cell_type": "code",
   "execution_count": 3,
   "id": "9cd863cb",
   "metadata": {},
   "outputs": [],
   "source": [
    "# Define the specific classes you want to detect\n",
    "target_classes = [\"1\", \"2\", \"3\",\"4\",\"5\",\"6\"]  # Match your training labels"
   ]
  },
  {
   "cell_type": "code",
   "execution_count": 4,
   "id": "007f6d1e",
   "metadata": {},
   "outputs": [],
   "source": [
    "# Validate classes\n",
    "available_classes = list(model.names.values())\n",
    "valid_classes = [cls for cls in target_classes if cls in available_classes]\n",
    "\n",
    "if not valid_classes:\n",
    "    raise ValueError(f\"Error: Target classes not found in model. Available: {available_classes}\")"
   ]
  },
  {
   "cell_type": "code",
   "execution_count": 5,
   "id": "8ae12108",
   "metadata": {},
   "outputs": [],
   "source": [
    "# Get class indices\n",
    "class_ids = [list(model.names.keys())[list(model.names.values()).index(cls)] for cls in valid_classes]"
   ]
  },
  {
   "cell_type": "code",
   "execution_count": 6,
   "id": "f4ae167e",
   "metadata": {},
   "outputs": [],
   "source": [
    "# Set minimum confidence threshold\n",
    "CONFIDENCE_THRESHOLD = 0.5  # Adjust this value as needed (0.0 - 1.0)"
   ]
  },
  {
   "cell_type": "code",
   "execution_count": 7,
   "id": "1ad1ee23",
   "metadata": {},
   "outputs": [],
   "source": [
    "#  This Python function uses OpenCV and a YOLOv8 model to perform real-time object detection from a webcam feed, \n",
    "#  specifically for detecting and counting fasteners (or other predefined object classes).\n",
    "\n",
    "def live_fastener_detection():\n",
    "\n",
    "    # Initialize webcam\n",
    "    cap = cv2.VideoCapture(0)\n",
    "    if not cap.isOpened():\n",
    "        print(\"Error: Could not access webcam.\")\n",
    "        return\n",
    "\n",
    "    try:\n",
    "        while True:\n",
    "            ret, frame = cap.read()\n",
    "            if not ret:\n",
    "                print(\"Error: Failed to capture frame.\")\n",
    "                break\n",
    "\n",
    "            # Run detection on the frame\n",
    "            results = model(frame, classes=class_ids, verbose=False)\n",
    "\n",
    "            # Get result for this frame\n",
    "            boxes = results[0].boxes\n",
    "            annotated_frame = frame.copy()\n",
    "\n",
    "            # Count detections\n",
    "            counts = {cls: 0 for cls in valid_classes}\n",
    "\n",
    "            for box in boxes:\n",
    "                conf = float(box.conf)\n",
    "                if conf < CONFIDENCE_THRESHOLD:\n",
    "                    continue  # Skip low-confidence detections\n",
    "\n",
    "                cls_id = int(box.cls)\n",
    "                cls_name = model.names[cls_id]\n",
    "                x1, y1, x2, y2 = map(int, box.xyxy[0])\n",
    "\n",
    "                # Draw bounding box\n",
    "                cv2.rectangle(annotated_frame, (x1, y1), (x2, y2), (0, 0, 255), 2)\n",
    "                cv2.putText(annotated_frame, f\"{cls_name} ({conf:.2f})\", \n",
    "                            (x1, y1 - 10), cv2.FONT_HERSHEY_SIMPLEX, \n",
    "                            0.5, (0, 255, 255), 2)\n",
    "\n",
    "                # Count\n",
    "                if cls_name in counts:\n",
    "                    counts[cls_name] += 1\n",
    "\n",
    "            # Draw detection counts\n",
    "            y_offset = 30\n",
    "            for cls, count in counts.items():\n",
    "                cv2.putText(annotated_frame, f\"{cls}: {count}\",\n",
    "                            (10, y_offset), cv2.FONT_HERSHEY_SIMPLEX,\n",
    "                            0.7, (255, 0, 0), 2)\n",
    "                y_offset += 30\n",
    "\n",
    "            # Show annotated frame\n",
    "            cv2.imshow(\"Local YOLOv8 Detection\", annotated_frame)\n",
    "\n",
    "            # Exit on 'q'\n",
    "            if cv2.waitKey(1) & 0xFF == ord('q'):\n",
    "                break\n",
    "\n",
    "    finally:\n",
    "        cap.release()\n",
    "        cv2.destroyAllWindows()\n",
    "\n",
    "if __name__ == \"__main__\":\n",
    "    live_fastener_detection()"
   ]
  }
 ],
 "metadata": {
  "kernelspec": {
   "display_name": "Python 3",
   "language": "python",
   "name": "python3"
  },
  "language_info": {
   "codemirror_mode": {
    "name": "ipython",
    "version": 3
   },
   "file_extension": ".py",
   "mimetype": "text/x-python",
   "name": "python",
   "nbconvert_exporter": "python",
   "pygments_lexer": "ipython3",
   "version": "3.11.0"
  }
 },
 "nbformat": 4,
 "nbformat_minor": 5
}
